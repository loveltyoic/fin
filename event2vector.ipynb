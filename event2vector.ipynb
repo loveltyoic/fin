{
 "cells": [
  {
   "cell_type": "code",
   "execution_count": 1,
   "metadata": {
    "collapsed": true
   },
   "outputs": [],
   "source": [
    "import pickle\n",
    "import gzip\n",
    "import _pickle as cPickle"
   ]
  },
  {
   "cell_type": "code",
   "execution_count": 2,
   "metadata": {
    "collapsed": true
   },
   "outputs": [],
   "source": [
    "from word2vec import word2vec"
   ]
  },
  {
   "cell_type": "code",
   "execution_count": 3,
   "metadata": {},
   "outputs": [
    {
     "name": "stdout",
     "output_type": "stream",
     "text": [
      "詞彙數:1151245\n",
      "維度數:200\n",
      "(1151245, 200)\n"
     ]
    }
   ],
   "source": [
    "w2v = word2vec('/home/zhli7/word2vec.pklz')"
   ]
  },
  {
   "cell_type": "code",
   "execution_count": 4,
   "metadata": {},
   "outputs": [
    {
     "name": "stdout",
     "output_type": "stream",
     "text": [
      "[['美丽', 0.88618608141812372], ['丑陋', 0.74391412929688849], ['美丽动人', 0.67913127572090404]]\n",
      "[['安全', 0.85208622852810256], ['危险', 0.80934890290714989], ['生命安全', 0.67541404593849919]]\n",
      "[['失败', 0.88220165676230788], ['成功', 0.86720976113151349], ['获得成功', 0.61461713352277403]]\n",
      "[['富有', 0.81631973687232762], ['贫穷', 0.75815443862835241], ['富于', 0.64268110359916653]]\n",
      "[['快乐', 0.8988703533643515], ['悲伤', 0.81410442746486344], ['欢愉', 0.72031793004683919]]\n",
      "鄙视0.0146706450236责难0.0109055120036同情0.0211458040343责备0.0105068388929批评0.0181467032308厌恶0.0129060992803蔑视0.0132046009396痛惜0.0129347587685痛恨0.0143487059286憎恶0.0112566542913\n",
      "鄙视:(22.093%)、责难:(12.349%)、同情:(11.794%)、责备:(11.509%)、批评:(11.475%)、厌恶:(11.396%)、蔑视:(11.366%)、痛惜:(10.950%)、痛恨:(10.779%)、憎恶:(10.739%)\n",
      "显然:(72.500%)、却:(72.068%)、或许:(71.538%)、貌似:(67.338%)、然而:(66.159%)、反倒:(65.895%)、虽然:(65.616%)、的确:(65.493%)、不过:(65.019%)\n",
      "张惠妹之于阿妹，那么周杰伦则是…周董:(84.431%)、杰伦:(74.649%)、哈林:(67.551%)、昆凌:(67.274%)、王力宏:(65.353%)、刘畊宏:(61.010%)、那姐:(59.023%)、吴宗宪:(58.837%)\n",
      "双子座之于花心，那么处女座则是…洁癖:(67.622%)、专情:(65.198%)、专一:(63.627%)、好男人:(61.878%)、好色:(61.381%)、吹毛求疵:(60.965%)、大男子主义:(60.316%)\n"
     ]
    }
   ],
   "source": [
    "anto = w2v.get_antonyms('尊敬')\n",
    "print(''.join([item[0]+str(w2v.cosine_distance('尊敬',item[0])) for item  in anto]))\n",
    "w2v.print_word_statistics(anto)\n",
    "\n",
    "similarWords=w2v.find_nearest_word('似乎',10)\n",
    "w2v.print_word_statistics(similarWords)\n",
    "\n",
    "answer = w2v.analogy('张惠妹', '阿妹', '周杰伦')\n",
    "print('张惠妹之于阿妹，那么周杰伦则是…' +w2v.print_word_statistics(answer,False))\n",
    "\n",
    "answer=w2v.analogy('双子座','花心','处女座')\n",
    "print('双子座之于花心，那么处女座则是…'+w2v.print_word_statistics(answer,False))\n",
    "\n"
   ]
  },
  {
   "cell_type": "code",
   "execution_count": 6,
   "metadata": {},
   "outputs": [
    {
     "data": {
      "text/plain": [
       "[['新浪', 0.8119255470078115],\n",
       " ['网易', 0.76804121406896386],\n",
       " ['搜狐', 0.73228489927502538],\n",
       " ['凤凰', 0.66867864372883212],\n",
       " ['腾讯网', 0.53289001598484764],\n",
       " ['时光网', 0.49693992801377884],\n",
       " ['频道', 0.46802043017211842],\n",
       " ['上海热线', 0.44326747623199747],\n",
       " ['中国网', 0.43061470415995262]]"
      ]
     },
     "execution_count": 6,
     "metadata": {},
     "output_type": "execute_result"
    }
   ],
   "source": [
    "w2v.find_nearest_word('腾讯', 10)"
   ]
  },
  {
   "cell_type": "code",
   "execution_count": null,
   "metadata": {
    "collapsed": true
   },
   "outputs": [],
   "source": []
  }
 ],
 "metadata": {
  "kernelspec": {
   "display_name": "Python 3",
   "language": "python",
   "name": "python3"
  },
  "language_info": {
   "codemirror_mode": {
    "name": "ipython",
    "version": 3
   },
   "file_extension": ".py",
   "mimetype": "text/x-python",
   "name": "python",
   "nbconvert_exporter": "python",
   "pygments_lexer": "ipython3",
   "version": "3.6.1"
  }
 },
 "nbformat": 4,
 "nbformat_minor": 2
}

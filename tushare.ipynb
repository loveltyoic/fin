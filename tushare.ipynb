{
 "cells": [
  {
   "cell_type": "code",
   "execution_count": null,
   "metadata": {},
   "outputs": [],
   "source": [
    "import tushare as ts\n",
    "%load_ext autoreload\n",
    "%autoreload 2\n",
    "import os\n",
    "\n",
    "ts.get_latest_news() #默认获取最近80条新闻数据，只提供新闻类型、链接和标题\n",
    "news = ts.get_latest_news(top=10,show_content=True) #显示最新5条新闻，并打印出新闻内容"
   ]
  },
  {
   "cell_type": "code",
   "execution_count": null,
   "metadata": {},
   "outputs": [],
   "source": [
    "news.iloc[8]['content']"
   ]
  },
  {
   "cell_type": "code",
   "execution_count": null,
   "metadata": {},
   "outputs": [],
   "source": [
    "stocks = ts.get_industry_classified()"
   ]
  },
  {
   "cell_type": "code",
   "execution_count": null,
   "metadata": {},
   "outputs": [],
   "source": [
    "stocks[stocks.name=='科大讯飞']"
   ]
  },
  {
   "cell_type": "code",
   "execution_count": null,
   "metadata": {},
   "outputs": [],
   "source": [
    "concepts = ts.get_concept_classified()"
   ]
  },
  {
   "cell_type": "markdown",
   "metadata": {},
   "source": [
    "# 写入字典"
   ]
  },
  {
   "cell_type": "code",
   "execution_count": null,
   "metadata": {
    "collapsed": true
   },
   "outputs": [],
   "source": [
    "with open('/home/zhli7/my_words', 'w') as f:\n",
    "    for name in concepts.name:\n",
    "        f.write(name+\"\\n\")"
   ]
  },
  {
   "cell_type": "code",
   "execution_count": null,
   "metadata": {
    "collapsed": true
   },
   "outputs": [],
   "source": [
    "import os\n",
    "LTP_DATA_DIR = '/home/zhli7/ltp_data_v3.4.0'  # ltp模型目录的路径\n",
    "cws_model_path = os.path.join(LTP_DATA_DIR, 'cws.model')  # 分词模型路径，模型名称为`cws.model`\n",
    "\n",
    "from pyltp import Segmentor\n",
    "ext_dict = os.path.join('/home/zhli7', 'my_words')\n",
    "\n",
    "segmentor = Segmentor()  # 初始化实例\n",
    "segmentor.load_with_lexicon(cws_model_path, ext_dict)  # 加载外部字典"
   ]
  },
  {
   "cell_type": "code",
   "execution_count": null,
   "metadata": {
    "collapsed": true
   },
   "outputs": [],
   "source": [
    "ts.set_token('0a10b42bf3c6488a9d2e97a8e5ba839633c0791dc130569b64de680209fe60ae')"
   ]
  },
  {
   "cell_type": "code",
   "execution_count": null,
   "metadata": {
    "collapsed": true
   },
   "outputs": [],
   "source": [
    "fd = ts.Subject()"
   ]
  },
  {
   "cell_type": "code",
   "execution_count": null,
   "metadata": {
    "collapsed": true
   },
   "outputs": [],
   "source": [
    "sample_news = fd.NewsByTickers(ticker='002230', beginDate='20170829', endDate='20170830')"
   ]
  },
  {
   "cell_type": "code",
   "execution_count": null,
   "metadata": {
    "collapsed": true
   },
   "outputs": [],
   "source": [
    "def print_seg_words(content):\n",
    "    seg = segmentor.segment(content)\n",
    "    for word in seg:\n",
    "        print(word)"
   ]
  },
  {
   "cell_type": "code",
   "execution_count": null,
   "metadata": {},
   "outputs": [],
   "source": [
    "print_seg_words(sample_news.iloc[8]['newsTitle'])"
   ]
  },
  {
   "cell_type": "code",
   "execution_count": null,
   "metadata": {
    "collapsed": true
   },
   "outputs": [],
   "source": [
    "import pandas as pd"
   ]
  },
  {
   "cell_type": "code",
   "execution_count": null,
   "metadata": {
    "collapsed": true
   },
   "outputs": [],
   "source": [
    "for d in pd.date_range('20160601', '20170827', freq='d'):\n",
    "    fd = ts.Subject()\n",
    "    date = d.strftime('%Y%m%d')\n",
    "    day_news = fd.NewsInfoByInsertTime(newsInsertDate=date, beginTime='00:30')\n",
    "    day_news.to_csv(\"news/{}.csv\".format(date, index=False, header=None))"
   ]
  },
  {
   "cell_type": "code",
   "execution_count": null,
   "metadata": {
    "collapsed": true
   },
   "outputs": [],
   "source": [
    "for d in pd.date_range('20160601', '20170829', freq='d'):\n",
    "    date = d.strftime('%Y%m%d')\n",
    "    dnews = pd.read_csv(\"news/{}.csv\".format(date))\n",
    "    with open(\"news/id_{}.txt\".format(date), 'w') as f:\n",
    "        for idx in list(dnews.newsID.values):\n",
    "            f.write(str(idx)+\"\\n\")"
   ]
  },
  {
   "cell_type": "code",
   "execution_count": null,
   "metadata": {},
   "outputs": [],
   "source": [
    "from IPython.display import FileLink\n",
    "FileLink('news/id_20170601.txt')"
   ]
  },
  {
   "cell_type": "code",
   "execution_count": null,
   "metadata": {
    "collapsed": true
   },
   "outputs": [],
   "source": [
    "fd = ts.Subject()"
   ]
  },
  {
   "cell_type": "code",
   "execution_count": null,
   "metadata": {
    "collapsed": true
   },
   "outputs": [],
   "source": [
    "ticker_news = fd.NewsByTickers(ticker='002230', beginDate='20160101', endDate='20170101)"
   ]
  },
  {
   "cell_type": "code",
   "execution_count": null,
   "metadata": {},
   "outputs": [],
   "source": [
    "ticker_news"
   ]
  },
  {
   "cell_type": "code",
   "execution_count": null,
   "metadata": {
    "collapsed": true
   },
   "outputs": [],
   "source": [
    "all_stock = ts.get_stock_basics()"
   ]
  },
  {
   "cell_type": "code",
   "execution_count": null,
   "metadata": {
    "collapsed": true
   },
   "outputs": [],
   "source": [
    "for code in all_stock.index:\n",
    "    fd = ts.Subject()\n",
    "    stock_news = fd.NewsByTickers(ticker=code, beginDate='20160101')\n",
    "    stock_news.to_csv('/data/zhli7/news_by_ticker/{}.csv'.format(code), index=False)"
   ]
  },
  {
   "cell_type": "markdown",
   "metadata": {},
   "source": [
    "## 将某只gupiao的新闻id写入一个文件"
   ]
  },
  {
   "cell_type": "code",
   "execution_count": null,
   "metadata": {
    "collapsed": true
   },
   "outputs": [],
   "source": [
    "for code in os.listdir('/data/zhli7/news_by_ticker/'):\n",
    "    news = pd.read_csv('/data/zhli7/news_by_ticker/'+code)\n",
    "    code = code.split('.')[0]\n",
    "    if len(news) < 1:\n",
    "        continue\n",
    "    with open(\"/data/zhli7/news/code_{}.txt\".format(code), 'w') as f:\n",
    "        for idx in list(news.newsID.values):\n",
    "            f.write(str(idx)+\"\\n\")"
   ]
  },
  {
   "cell_type": "code",
   "execution_count": null,
   "metadata": {
    "scrolled": true
   },
   "outputs": [],
   "source": [
    "from crawler import craw_by_code\n",
    "for code_file in os.listdir('/data/zhli7/code/'):\n",
    "    code = code_file.split('.')[0].split('_')[1]\n",
    "    print(code)\n",
    "    craw_by_code(code)"
   ]
  },
  {
   "cell_type": "code",
   "execution_count": null,
   "metadata": {
    "collapsed": true
   },
   "outputs": [],
   "source": [
    "import pandas as pd"
   ]
  },
  {
   "cell_type": "code",
   "execution_count": null,
   "metadata": {
    "collapsed": true
   },
   "outputs": [],
   "source": []
  }
 ],
 "metadata": {
  "kernelspec": {
   "display_name": "Python 3",
   "language": "python",
   "name": "python3"
  },
  "language_info": {
   "codemirror_mode": {
    "name": "ipython",
    "version": 3
   },
   "file_extension": ".py",
   "mimetype": "text/x-python",
   "name": "python",
   "nbconvert_exporter": "python",
   "pygments_lexer": "ipython3",
   "version": "3.6.1"
  }
 },
 "nbformat": 4,
 "nbformat_minor": 2
}
